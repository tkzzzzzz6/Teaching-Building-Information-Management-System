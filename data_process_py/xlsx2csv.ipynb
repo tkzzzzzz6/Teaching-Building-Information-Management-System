{
 "cells": [
  {
   "cell_type": "code",
   "execution_count": 1,
   "metadata": {},
   "outputs": [
    {
     "name": "stdout",
     "output_type": "stream",
     "text": [
      "WARNING *** OLE2 inconsistency: SSCS size is 0 but SSAT size is non-zero\n"
     ]
    }
   ],
   "source": [
    "import pandas as pd\n",
    "\n",
    "def xlsx_to_csv(xlsx_file, csv_file):\n",
    "    # 读取 Excel 文件\n",
    "    df = pd.read_excel(xlsx_file)\n",
    "    \n",
    "    # 将数据写入 CSV 文件\n",
    "    df.to_csv(csv_file, index=False, encoding='gbk')\n",
    "\n",
    "# 调用函数\n",
    "xlsx_to_csv('../data/2024年12月10日上午（第1讲）有课的教室.xls', '../data/2024年12月10日上午（第1讲）有课的教室.csv')\n",
    "\n",
    "\n"
   ]
  },
  {
   "cell_type": "code",
   "execution_count": null,
   "metadata": {},
   "outputs": [],
   "source": []
  }
 ],
 "metadata": {
  "kernelspec": {
   "display_name": "base",
   "language": "python",
   "name": "python3"
  },
  "language_info": {
   "codemirror_mode": {
    "name": "ipython",
    "version": 3
   },
   "file_extension": ".py",
   "mimetype": "text/x-python",
   "name": "python",
   "nbconvert_exporter": "python",
   "pygments_lexer": "ipython3",
   "version": "3.12.4"
  }
 },
 "nbformat": 4,
 "nbformat_minor": 2
}
